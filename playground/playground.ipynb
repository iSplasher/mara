{
 "cells": [
  {
   "cell_type": "code",
   "execution_count": 2,
   "metadata": {
    "vscode": {
     "languageId": "cpp"
    }
   },
   "outputs": [
    {
     "name": "stdout",
     "output_type": "stream",
     "text": [
      "0000000000000000000000000000000000000000000000000011000000111001 0000000000000000000000000000000000000000000000001101010000110001 "
     ]
    },
    {
     "data": {
      "text/plain": [
       "@0x7faad0940b60"
      ]
     },
     "execution_count": 2,
     "metadata": {},
     "output_type": "execute_result"
    }
   ],
   "source": [
    "#include <bitset>\n",
    "#include <iostream>\n",
    "\n",
    "std::string s = std::bitset< 64 >( 12345 ).to_string(); // string conversion\n",
    "\n",
    "std::cout << s << ' '; // direct output\n",
    "std::cout << std::bitset< 64 >( 54321 ) << ' '; // direct output\n"
   ]
  }
 ],
 "metadata": {
  "kernelspec": {
   "display_name": "C++17",
   "language": "C++17",
   "name": "xcpp17"
  },
  "language_info": {
   "codemirror_mode": "text/x-c++src",
   "file_extension": ".cpp",
   "mimetype": "text/x-c++src",
   "name": "c++",
   "version": "17"
  },
  "orig_nbformat": 4
 },
 "nbformat": 4,
 "nbformat_minor": 2
}
